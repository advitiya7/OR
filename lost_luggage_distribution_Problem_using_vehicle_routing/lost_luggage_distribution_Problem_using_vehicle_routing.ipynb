{
  "cells": [
    {
      "cell_type": "markdown",
      "metadata": {
        "id": "TVtX9JVNBJNa"
      },
      "source": [
        "# Lost Luggage Distribution  Problem\n",
        "\n",
        "## Objective and Prerequisites\n",
        "\n",
        "In this example, you’ll learn how to use mathematical optimization to solve a vehicle routing problem with time windows, which involves helping a company figure out the minimum number of vans required to deliver pieces of lost or delayed baggage to their rightful owners and determining the optimal assignment of vans to customers.\n",
        "\n"
      ]
    },
    {
      "cell_type": "markdown",
      "metadata": {
        "id": "fvU0HLPbBJNd"
      },
      "source": [
        "## Problem Description\n",
        "\n",
        "A small company with six vans has a contract with a number of airlines to pick up lost or delayed baggage, belonging to customers in the London area, from Heathrow airport at 6 p.m. each evening. The contract stipulates that each customer must have their baggage delivered by 8 p.m. The company requires a model to advise them what is the minimum number of vans they need to use and to which customers each van should deliver and in what order. There is no practical capacity limitation on each van. Each van can hold all baggage that needs to be delivered in a two-hour period. To solve this problem, we can formulate an optimization model that minimizes the number of vans that need to be used.\n",
        "\n"
      ]
    },
    {
      "cell_type": "markdown",
      "metadata": {
        "id": "q6Ac-hzXBJNe"
      },
      "source": [
        "##  Model Formulation\n",
        "\n",
        "\n",
        "### Sets and Indices\n",
        "\n",
        "$i,j \\in \\text{Locations} \\equiv L=\\{0,1..(n-1)\\}$: Set of locations where $0$ is the index for the single depot -Heathrow airport, and $n$ is the number of locations.\n",
        "\n",
        "$k \\in \\text{Vans} \\equiv  V=\\{0..K-1\\}$: Index and set of vans, where $K$ is the number of vans.\n",
        "\n",
        "$S_k \\in S  $: Tour of van $k$, i.e. subset of locations visited by the van.\n",
        "\n",
        "### Parameters\n",
        "\n",
        "$t_{i,j} \\in \\mathbb{R}^+$: Travel time from location $i$  to location $j$.\n",
        "\n",
        "### Decision Variables\n",
        "\n",
        "$x_{i,j,k} \\in \\{0,1 \\}$: This binary variable is equal 1, if van $k$ visits and goes directly from location $i$ to location $j$, and zero otherwise.\n",
        "\n",
        "$y_{i,k} \\in \\{0,1 \\}$: This binary variable is equal 1, if van $k$ visits location $i$, and zero otherwise.\n",
        "\n",
        "$z_{k} \\in \\{0,1 \\}$: This binary variable is equal 1, if van $k \\in \\{1,2..K\\}$ is used, and zero otherwise.\n",
        "\n",
        "### Objective Function\n",
        "\n",
        "**Number of vans**: Minimize number of vans used.\n",
        "\n",
        "\\begin{equation}\n",
        "\\text{Minimize} \\quad \\sum_{k = 1}^{K} z_k\n",
        "\\end{equation}\n",
        "\n",
        "### Constraints\n",
        "\n",
        "**Van utilization**: For all locations different from the depot, i.e. $i > 0$, if the location is visited by van $k$, then it is used.\n",
        "\n",
        "\\begin{equation}\n",
        "y_{i,k} \\leq z_{k} \\quad \\forall i \\in L \\setminus \\{0\\}, \\; k \\in V\n",
        "\\end{equation}\n",
        "\n",
        "**Travel time**: No van travels for more than 120 min. Note that we do not consider the travel time to return to the depot.\n",
        "\n",
        "\\begin{equation}\n",
        "\\sum_{i \\in L} \\sum_{j \\in L \\setminus \\{0\\}} t_{i,j} \\cdot x_{i,j,k} \\leq 120 \\quad \\forall k \\in  V\n",
        "\\end{equation}\n",
        "\n",
        "**Visit all customers**:  Each customer location is visited by exactly one van.\n",
        "\n",
        "\\begin{equation}\n",
        "\\sum_{k \\in V}  y_{i,k} = 1 \\quad \\forall i \\in L \\setminus \\{0\\}\n",
        "\\end{equation}\n",
        "\n",
        "**Depot**: Heathrow is visited by every van used. (Note: to improve performance, we diverge from the book by disaggregating this constraint).\n",
        "\n",
        "\\begin{equation}\n",
        "y_{0,k} = z_k \\quad \\forall k \\in V\n",
        "\\end{equation}\n",
        "\n",
        "**Arriving at a location**: If location $j$ is visited by van $k$, then the van is coming from another location $i$.\n",
        "\n",
        "\\begin{equation}\n",
        "\\sum_{i \\in L}  x_{i,j,k} =  y_{j,k}  \\quad \\forall j \\in L, \\; k \\in V\n",
        "\\end{equation}\n",
        "\n",
        "**Leaving a location**: If van $k$ leaves location $j$, then the van is going to another location $i$.\n",
        "\n",
        "\\begin{equation}\n",
        "\\sum_{i \\in L}  x_{j,i,k} = y_{j,k}  \\quad \\forall j \\in L, \\; k \\in V\n",
        "\\end{equation}\n",
        "\n",
        "**Breaking symmetry**:\n",
        "\n",
        "\\begin{equation}\n",
        "\\sum_{i \\in L}  y_{i,k} \\geq \\sum_{i \\in L}  y_{i,k+1} \\quad \\forall k \\in  \\{0..K-1\\}\n",
        "\\end{equation}\n",
        "\n",
        "**Subtour elimination**: These constraints ensure that for each van route, there is no cycle.\n",
        "\n",
        "\\begin{equation}\n",
        "\\sum_{(i,j) \\in S_k}x_{i,j,k} \\leq |S_k|-1 \\quad \\forall  k \\in K, \\;   S_k \\subseteq L\n",
        "\\end{equation}\n",
        "\n"
      ]
    },
    {
      "cell_type": "markdown",
      "metadata": {
        "id": "bDXZQBWdBJNf"
      },
      "source": [
        "## Python Implementation\n",
        "\n",
        "We import the Gurobi Python Module and other Python libraries."
      ]
    },
    {
      "cell_type": "code",
      "source": [
        "%pip install gurobipy"
      ],
      "metadata": {
        "colab": {
          "base_uri": "https://localhost:8080/"
        },
        "id": "A1JhllYdBj27",
        "outputId": "c6843125-c359-4d79-8414-7642361050aa"
      },
      "execution_count": 2,
      "outputs": [
        {
          "output_type": "stream",
          "name": "stdout",
          "text": [
            "Collecting gurobipy\n",
            "  Downloading gurobipy-10.0.3-cp310-cp310-manylinux2014_x86_64.whl (12.7 MB)\n",
            "\u001b[2K     \u001b[90m━━━━━━━━━━━━━━━━━━━━━━━━━━━━━━━━━━━━━━━━\u001b[0m \u001b[32m12.7/12.7 MB\u001b[0m \u001b[31m68.4 MB/s\u001b[0m eta \u001b[36m0:00:00\u001b[0m\n",
            "\u001b[?25hInstalling collected packages: gurobipy\n",
            "Successfully installed gurobipy-10.0.3\n"
          ]
        }
      ]
    },
    {
      "cell_type": "code",
      "execution_count": 3,
      "metadata": {
        "id": "JYO65ke_BJNg"
      },
      "outputs": [],
      "source": [
        "import sys\n",
        "import math\n",
        "import random\n",
        "from itertools import permutations\n",
        "import gurobipy as gp\n",
        "from gurobipy import GRB\n",
        "\n",
        "# tested with Python 3.7.0 & Gurobi 9.1.0"
      ]
    },
    {
      "cell_type": "markdown",
      "metadata": {
        "id": "9Uj1aGpMBJNh"
      },
      "source": [
        "## Input data  \n",
        "We define all the input data for the model. The user defines the number of locations, including the depot, and the number of vans. We randomly determine the coordinates of each location and then calculate the Euclidean distance between each pair of locations. We assume a speed of 60 km/hr, which is 1 km/min. Hence travel time is equal to the distance."
      ]
    },
    {
      "cell_type": "code",
      "execution_count": 4,
      "metadata": {
        "id": "YaR5VPNDBJNi"
      },
      "outputs": [],
      "source": [
        "# number of locations, including the depot. The index of the depot is 0\n",
        "n = 17\n",
        "locations = [*range(n)]\n",
        "\n",
        "# number of vans\n",
        "K = 6\n",
        "vans = [*range(K)]\n",
        "\n",
        "# Create n random points\n",
        "# Depot is located at (0,0) coordinates\n",
        "random.seed(1)\n",
        "points = [(0, 0)]\n",
        "points += [(random.randint(0, 50), random.randint(0, 50)) for i in range(n-1)]\n",
        "\n",
        "# Dictionary of Euclidean distance between each pair of points\n",
        "# Assume a speed of 60 km/hr, which is 1 km/min. Hence travel time = distance\n",
        "time = {(i, j):\n",
        "        math.sqrt(sum((points[i][k]-points[j][k])**2 for k in range(2)))\n",
        "        for i in locations for j in locations if i != j}"
      ]
    },
    {
      "cell_type": "markdown",
      "metadata": {
        "id": "2io576fVBJNi"
      },
      "source": [
        "## Model Deployment\n",
        "\n",
        "We create a model and the variables. The decision variables determines the order in which each van visits a subset of custormers, which customer is visited by each van, and if a van is used or not."
      ]
    },
    {
      "cell_type": "code",
      "execution_count": 5,
      "metadata": {
        "colab": {
          "base_uri": "https://localhost:8080/"
        },
        "id": "FkqigadiBJNk",
        "outputId": "82ed9c27-a1e1-4825-8a31-c2648ee03b6c"
      },
      "outputs": [
        {
          "output_type": "stream",
          "name": "stdout",
          "text": [
            "Restricted license - for non-production use only - expires 2024-10-28\n"
          ]
        }
      ],
      "source": [
        "m = gp.Model('lost_luggage_distribution.lp')\n",
        "\n",
        "# Create variables:\n",
        "\n",
        "# x =1, if van  k  visits and goes directly from location  i  to location  j\n",
        "x = m.addVars(time.keys(), vans, vtype=GRB.BINARY, name='FromToBy')\n",
        "\n",
        "# y = 1, if customer i is visited by van k\n",
        "y = m.addVars(locations, vans, vtype=GRB.BINARY, name='visitBy')\n",
        "\n",
        "# Number of vans used is a decision variable\n",
        "z = m.addVars(vans, vtype=GRB.BINARY, name='used')\n",
        "\n",
        "# Travel time per van\n",
        "t = m.addVars(vans, ub=120, name='travelTime')\n",
        "\n",
        "# Maximum travel time\n",
        "s = m.addVar(name='maxTravelTime')"
      ]
    },
    {
      "cell_type": "markdown",
      "metadata": {
        "id": "tqgCNuwLBJNl"
      },
      "source": [
        "## Constraints\n",
        "\n",
        "For all locations different from depot, i.e. $i > 0$, if the location is visited by van $k$, then it is used."
      ]
    },
    {
      "cell_type": "code",
      "execution_count": 6,
      "metadata": {
        "id": "pgkH6uTQBJNm"
      },
      "outputs": [],
      "source": [
        "# Van utilization constraint\n",
        "\n",
        "visitCustomer = m.addConstrs((y[i,k] <= z[k]  for k in vans for i in locations if i > 0), name='visitCustomer' )"
      ]
    },
    {
      "cell_type": "markdown",
      "metadata": {
        "id": "F2tCglMvBJNm"
      },
      "source": [
        "No van travels for more than 120 min. We make a small change from the original H.P. Williams version to introduce a slack variable for the travel time for each van, t[k]."
      ]
    },
    {
      "cell_type": "code",
      "execution_count": 7,
      "metadata": {
        "id": "AEyNfB47BJNn"
      },
      "outputs": [],
      "source": [
        "# Travel time constraint\n",
        "# Exclude the time to return to the depot\n",
        "\n",
        "travelTime = m.addConstrs((gp.quicksum(time[i,j]*x[i,j,k] for i,j in time.keys() if j > 0) == t[k] for k in vans),\n",
        "                          name='travelTimeConstr' )"
      ]
    },
    {
      "cell_type": "markdown",
      "metadata": {
        "id": "cbIohEyVBJNn"
      },
      "source": [
        "Each customer location is visited by exactly one van"
      ]
    },
    {
      "cell_type": "code",
      "execution_count": 8,
      "metadata": {
        "id": "RFLp6H1HBJNn"
      },
      "outputs": [],
      "source": [
        "# Visit all customers\n",
        "visitAll = m.addConstrs((y.sum(i,'*') == 1 for i in locations if i > 0), name='visitAll' )"
      ]
    },
    {
      "cell_type": "markdown",
      "metadata": {
        "id": "E1f5Cn4iBJNo"
      },
      "source": [
        "Heathrow (depot) is visited by every van used."
      ]
    },
    {
      "cell_type": "code",
      "execution_count": 9,
      "metadata": {
        "id": "Ide9TkxXBJNo"
      },
      "outputs": [],
      "source": [
        "# Depot constraint\n",
        "depotConstr = m.addConstrs((y[0, k] == z[k] for k in vans), name='depotConstr' )"
      ]
    },
    {
      "cell_type": "markdown",
      "metadata": {
        "id": "bQOGlyI3BJNo"
      },
      "source": [
        "If location  j  is visited by van  k , then the van is coming from another location  i."
      ]
    },
    {
      "cell_type": "code",
      "execution_count": 10,
      "metadata": {
        "id": "A1tZJP6bBJNo"
      },
      "outputs": [],
      "source": [
        "# Arriving at a customer location constraint\n",
        "ArriveConstr = m.addConstrs((x.sum('*',j,k) == y[j,k] for j,k in y.keys()), name='ArriveConstr' )"
      ]
    },
    {
      "cell_type": "markdown",
      "metadata": {
        "id": "FlHVUJoUBJNo"
      },
      "source": [
        " If van  k  leaves location  j , then the van is going to another location  i."
      ]
    },
    {
      "cell_type": "code",
      "execution_count": 11,
      "metadata": {
        "id": "HwsMVcX4BJNp"
      },
      "outputs": [],
      "source": [
        "# Leaving a customer location constraint\n",
        "LeaveConstr = m.addConstrs((x.sum(j,'*',k) == y[j,k] for j,k in y.keys()), name='LeaveConstr' )"
      ]
    },
    {
      "cell_type": "markdown",
      "metadata": {
        "id": "pwZxWI3iBJNp"
      },
      "source": [
        "Breaking symmetry constraints."
      ]
    },
    {
      "cell_type": "code",
      "execution_count": 12,
      "metadata": {
        "id": "a0fNEMQcBJNp"
      },
      "outputs": [],
      "source": [
        "breakSymm = m.addConstrs((y.sum('*',k-1) >= y.sum('*',k) for k in vans if k>0), name='breakSymm' )"
      ]
    },
    {
      "cell_type": "markdown",
      "metadata": {
        "id": "rXh8yCxPBJNq"
      },
      "source": [
        "Relate the maximum travel time to the travel times of each van"
      ]
    },
    {
      "cell_type": "code",
      "execution_count": 13,
      "metadata": {
        "id": "jolMt5GsBJNq"
      },
      "outputs": [],
      "source": [
        "maxTravelTime = m.addConstrs((t[k] <= s for k in vans), name='maxTravelTimeConstr')\n",
        "\n",
        "# Alternately, as a general constraint:\n",
        "# maxTravelTime = m.addConstr(s == gp.max_(t), name='maxTravelTimeConstr')"
      ]
    },
    {
      "cell_type": "markdown",
      "metadata": {
        "id": "6P__VfHSBJNq"
      },
      "source": [
        "### Objective Function\n",
        "We use two hierarchical objectives:\n",
        "- First, minimize the number of vans used\n",
        "- Then, minimize the maximum of the time limit constraints"
      ]
    },
    {
      "cell_type": "code",
      "execution_count": 14,
      "metadata": {
        "id": "5NiDQmaGBJNq"
      },
      "outputs": [],
      "source": [
        "m.ModelSense = GRB.MINIMIZE\n",
        "m.setObjectiveN(z.sum(), 0, priority=1, name=\"Number of vans\")\n",
        "m.setObjectiveN(s, 1, priority=0, name=\"Travel time\")"
      ]
    },
    {
      "cell_type": "markdown",
      "metadata": {
        "id": "qocyDzb_BJNr"
      },
      "source": [
        "### Callback Definition\n",
        "Subtour constraints prevent a van from visiting a set of destinations without starting or ending at the Heathrow depot. Because there are an exponential number of these constraints, we don't want to add them all to the model. Instead, we use a callback function to find violated subtour constraints and add them to the model as lazy constraints."
      ]
    },
    {
      "cell_type": "code",
      "execution_count": 15,
      "metadata": {
        "id": "fk-svv3CBJNr"
      },
      "outputs": [],
      "source": [
        "# Callback - use lazy constraints to eliminate sub-tours\n",
        "def subtourelim(model, where):\n",
        "    if where == GRB.Callback.MIPSOL:\n",
        "        # make a list of edges selected in the solution\n",
        "        vals = model.cbGetSolution(model._x)\n",
        "        selected = gp.tuplelist((i,j) for i, j, k in model._x.keys()\n",
        "                                if vals[i, j, k] > 0.5)\n",
        "        # find the shortest cycle in the selected edge list\n",
        "        tour = subtour(selected)\n",
        "        if len(tour) < n:\n",
        "            for k in vans:\n",
        "                model.cbLazy(gp.quicksum(model._x[i, j, k]\n",
        "                                         for i, j in permutations(tour, 2))\n",
        "                             <= len(tour)-1)\n",
        "\n",
        "\n",
        "# Given a tuplelist of edges, find the shortest subtour not containing depot (0)\n",
        "def subtour(edges):\n",
        "    unvisited = list(range(1, n))\n",
        "    cycle = range(n+1)  # initial length has 1 more city\n",
        "    while unvisited:\n",
        "        thiscycle = []\n",
        "        neighbors = unvisited\n",
        "        while neighbors:\n",
        "            current = neighbors[0]\n",
        "            thiscycle.append(current)\n",
        "            if current != 0:\n",
        "                unvisited.remove(current)\n",
        "            neighbors = [j for i, j in edges.select(current, '*')\n",
        "                         if j == 0 or j in unvisited]\n",
        "        if 0 not in thiscycle and len(cycle) > len(thiscycle):\n",
        "            cycle = thiscycle\n",
        "    return cycle"
      ]
    },
    {
      "cell_type": "markdown",
      "metadata": {
        "id": "eH6BFpeOBJNr"
      },
      "source": [
        "## Solve the model"
      ]
    },
    {
      "cell_type": "code",
      "execution_count": 16,
      "metadata": {
        "colab": {
          "base_uri": "https://localhost:8080/"
        },
        "id": "FStgYS5lBJNr",
        "outputId": "b8b9051b-3784-4dec-a1bc-9cf4c60d2c68"
      },
      "outputs": [
        {
          "output_type": "stream",
          "name": "stdout",
          "text": [
            "Set parameter LazyConstraints to value 1\n",
            "Gurobi Optimizer version 10.0.3 build v10.0.3rc0 (linux64)\n",
            "\n",
            "CPU model: Intel(R) Xeon(R) CPU @ 2.20GHz, instruction set [SSE2|AVX|AVX2]\n",
            "Thread count: 1 physical cores, 2 logical processors, using up to 2 threads\n",
            "\n",
            "Optimize a model with 339 rows, 1747 columns and 5492 nonzeros\n",
            "Model fingerprint: 0x06e2dd4c\n",
            "Variable types: 7 continuous, 1740 integer (1740 binary)\n",
            "Coefficient statistics:\n",
            "  Matrix range     [1e+00, 7e+01]\n",
            "  Objective range  [1e+00, 1e+00]\n",
            "  Bounds range     [1e+00, 1e+02]\n",
            "  RHS range        [1e+00, 1e+00]\n",
            "\n",
            "---------------------------------------------------------------------------\n",
            "Multi-objectives: starting optimization with 2 objectives ... \n",
            "---------------------------------------------------------------------------\n",
            "\n",
            "Multi-objectives: applying initial presolve ...\n",
            "---------------------------------------------------------------------------\n",
            "\n",
            "Presolve removed 22 rows and 7 columns\n",
            "Presolve time: 0.05s\n",
            "Presolved: 317 rows and 1740 columns\n",
            "---------------------------------------------------------------------------\n",
            "\n",
            "Multi-objectives: optimize objective 1 (Number of vans) ...\n",
            "---------------------------------------------------------------------------\n",
            "\n",
            "Presolve time: 0.02s\n",
            "Presolved: 317 rows, 1740 columns, 5444 nonzeros\n",
            "Variable types: 7 continuous, 1733 integer (1733 binary)\n",
            "\n",
            "Root relaxation: objective 1.330039e+00, 429 iterations, 0.01 seconds (0.01 work units)\n",
            "\n",
            "    Nodes    |    Current Node    |     Objective Bounds      |     Work\n",
            " Expl Unexpl |  Obj  Depth IntInf | Incumbent    BestBd   Gap | It/Node Time\n",
            "\n",
            "     0     0    1.33004    0  103          -    1.33004      -     -    0s\n",
            "     0     0    1.46675    0  160          -    1.46675      -     -    0s\n",
            "     0     0    1.58481    0  164          -    1.58481      -     -    0s\n",
            "     0     0    2.00000    0  131          -    2.00000      -     -    0s\n",
            "     0     0    2.00000    0  128          -    2.00000      -     -    0s\n",
            "     0     0    2.00000    0   61          -    2.00000      -     -    0s\n",
            "     0     0    2.00000    0    6          -    2.00000      -     -    0s\n",
            "     0     0    2.00000    0   31          -    2.00000      -     -    0s\n",
            "     0     0    2.00000    0    -          -    2.00000      -     -    0s\n",
            "     0     0    2.00000    0   32          -    2.00000      -     -    0s\n",
            "     0     0    2.00000    0    -          -    2.00000      -     -    0s\n",
            "     0     0    2.00000    0   16          -    2.00000      -     -    0s\n",
            "     0     0    2.00000    0    -          -    2.00000      -     -    0s\n",
            "     0     0    2.00000    0   90          -    2.00000      -     -    0s\n",
            "     0     0    2.00000    0   10          -    2.00000      -     -    0s\n",
            "     0     2    2.00000    0   22          -    2.00000      -     -    0s\n",
            "*  892     1              48       1.9999993    2.00000  0.00%  20.1    3s\n",
            "\n",
            "Cutting planes:\n",
            "  Gomory: 1\n",
            "  Cover: 116\n",
            "  Implied bound: 2\n",
            "  Clique: 2\n",
            "  Inf proof: 1\n",
            "  Zero half: 1\n",
            "  RLT: 1\n",
            "  Lazy constraints: 180\n",
            "\n",
            "Explored 893 nodes (29666 simplex iterations) in 4.00 seconds (1.68 work units)\n",
            "Thread count was 2 (of 2 available processors)\n",
            "\n",
            "Solution count 1: 2 \n",
            "\n",
            "Optimal solution found (tolerance 1.00e-04)\n",
            "Best objective 1.999999330039e+00, best bound 1.999999330039e+00, gap 0.0000%\n",
            "---------------------------------------------------------------------------\n",
            "\n",
            "Multi-objectives: optimize objective 2 (Travel time) ...\n",
            "---------------------------------------------------------------------------\n",
            "\n",
            "\n",
            "Loaded user MIP start with objective 118.368\n",
            "\n",
            "Presolve removed 229 rows and 1172 columns\n",
            "Presolve time: 0.07s\n",
            "Presolved: 89 rows, 568 columns, 1719 nonzeros\n",
            "Variable types: 7 continuous, 561 integer (561 binary)\n",
            "\n",
            "Root relaxation: objective 8.974033e+01, 125 iterations, 0.00 seconds (0.00 work units)\n",
            "\n",
            "    Nodes    |    Current Node    |     Objective Bounds      |     Work\n",
            " Expl Unexpl |  Obj  Depth IntInf | Incumbent    BestBd   Gap | It/Node Time\n",
            "\n",
            "     0     0   89.74033    0   52  118.36779   89.74033  24.2%     -    4s\n",
            "H    0     0                     118.3677889   89.74033  24.2%     -    4s\n",
            "     0     0   92.15860    0   12  118.36779   92.15860  22.1%     -    4s\n",
            "     0     0   94.43074    0   24  118.36779   94.43074  20.2%     -    4s\n",
            "     0     0   94.43074    0   24  118.36779   94.43074  20.2%     -    4s\n",
            "     0     2   95.67167    0   54  118.36779   95.67167  19.2%     -    4s\n",
            "H    9     9                     117.9761032   97.03550  17.7%  11.4    4s\n",
            "*  375   176              47     116.4555814   99.70218  14.4%   8.5    4s\n",
            "*  377   175              48     115.5535651   99.70218  13.7%   8.5    4s\n",
            "*  379   163              49     115.0558909   99.70218  13.3%   8.4    4s\n",
            "*  544    81              22     105.4165478  100.42151  4.74%   8.4    4s\n",
            "\n",
            "Cutting planes:\n",
            "  Zero half: 2\n",
            "  RLT: 1\n",
            "  Relax-and-lift: 1\n",
            "  Lazy constraints: 52\n",
            "\n",
            "Explored 725 nodes (6888 simplex iterations) in 4.90 seconds (1.99 work units)\n",
            "Thread count was 2 (of 2 available processors)\n",
            "\n",
            "Solution count 6: 105.417 115.056 115.554 ... 118.368\n",
            "\n",
            "Optimal solution found (tolerance 1.00e-04)\n",
            "Best objective 1.054165478154e+02, best bound 1.054165478154e+02, gap 0.0000%\n",
            "\n",
            "---------------------------------------------------------------------------\n",
            "Multi-objectives: solved in 4.91 seconds (1.99 work units), solution count 7\n",
            "\n",
            "\n",
            "User-callback calls 9177, time in user-callback 0.21 sec\n"
          ]
        }
      ],
      "source": [
        "# Verify model formulation\n",
        "\n",
        "m.write('lost_luggage_distribution.lp')\n",
        "\n",
        "# Run optimization engine\n",
        "m._x = x\n",
        "m.Params.LazyConstraints = 1\n",
        "m.optimize(subtourelim)"
      ]
    },
    {
      "cell_type": "markdown",
      "metadata": {
        "id": "UeuoMSryBJNr"
      },
      "source": [
        "## Analysis\n",
        "\n",
        "The optimal route of each van used and the total lost luggage delivery time report follows."
      ]
    },
    {
      "cell_type": "code",
      "execution_count": 17,
      "metadata": {
        "scrolled": true,
        "colab": {
          "base_uri": "https://localhost:8080/"
        },
        "id": "xGDL5H3WBJNs",
        "outputId": "01b600b8-5c23-4e22-918d-e14a6fb54bd4"
      },
      "outputs": [
        {
          "output_type": "stream",
          "name": "stdout",
          "text": [
            "Route for van 0: 0 -> 3 -> 16 -> 15 -> 2 -> 7 -> 14 -> 6 -> 5 -> 13 -> 0. Travel time: 105.42 min\n",
            "Route for van 1: 0 -> 9 -> 8 -> 1 -> 12 -> 10 -> 4 -> 11 -> 0. Travel time: 104.78 min\n",
            "Max travel time: 105.42\n"
          ]
        }
      ],
      "source": [
        "# Print optimal routes\n",
        "for k in vans:\n",
        "    route = gp.tuplelist((i,j) for i,j in time.keys() if x[i,j,k].X > 0.5)\n",
        "    if route:\n",
        "        i = 0\n",
        "        print(f\"Route for van {k}: {i}\", end='')\n",
        "        while True:\n",
        "            i = route.select(i, '*')[0][1]\n",
        "            print(f\" -> {i}\", end='')\n",
        "            if i == 0:\n",
        "                break\n",
        "        print(f\". Travel time: {round(t[k].X,2)} min\")\n",
        "\n",
        "print(f\"Max travel time: {round(s.X,2)}\")"
      ]
    }
  ],
  "metadata": {
    "kernelspec": {
      "display_name": "Python 3",
      "language": "python",
      "name": "python3"
    },
    "language_info": {
      "codemirror_mode": {
        "name": "ipython",
        "version": 3
      },
      "file_extension": ".py",
      "mimetype": "text/x-python",
      "name": "python",
      "nbconvert_exporter": "python",
      "pygments_lexer": "ipython3",
      "version": "3.8.2"
    },
    "colab": {
      "provenance": []
    }
  },
  "nbformat": 4,
  "nbformat_minor": 0
}