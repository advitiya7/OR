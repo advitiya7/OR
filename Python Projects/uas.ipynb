{
  "nbformat": 4,
  "nbformat_minor": 0,
  "metadata": {
    "colab": {
      "provenance": [],
      "collapsed_sections": [],
      "mount_file_id": "1GmjVIQmtZUdIL2Zj9WbdgSBBjub9Y93i",
      "authorship_tag": "ABX9TyPCeRd5cbVgPQLs4KSVhOCo",
      "include_colab_link": true
    },
    "kernelspec": {
      "name": "python3",
      "display_name": "Python 3"
    },
    "language_info": {
      "name": "python"
    }
  },
  "cells": [
    {
      "cell_type": "markdown",
      "metadata": {
        "id": "view-in-github",
        "colab_type": "text"
      },
      "source": [
        "<a href=\"https://colab.research.google.com/github/advitiya7/UAS-DTU/blob/main/uas.ipynb\" target=\"_parent\"><img src=\"https://colab.research.google.com/assets/colab-badge.svg\" alt=\"Open In Colab\"/></a>"
      ]
    },
    {
      "cell_type": "code",
      "execution_count": null,
      "metadata": {
        "id": "PL2fE68oL33o"
      },
      "outputs": [],
      "source": []
    },
    {
      "cell_type": "code",
      "source": [
        "from google.colab import drive\n",
        "drive.mount('/content/drive')\n"
      ],
      "metadata": {
        "colab": {
          "base_uri": "https://localhost:8080/"
        },
        "id": "sDcfyvKsL8g2",
        "outputId": "3ab469e5-641f-44cb-d97b-5f295f75d3cf"
      },
      "execution_count": null,
      "outputs": [
        {
          "output_type": "stream",
          "name": "stdout",
          "text": [
            "Drive already mounted at /content/drive; to attempt to forcibly remount, call drive.mount(\"/content/drive\", force_remount=True).\n"
          ]
        }
      ]
    },
    {
      "cell_type": "code",
      "source": [
        "import numpy as np\n",
        "import torch\n",
        "import torchvision\n",
        "import matplotlib.pyplot as plt\n",
        "from time import time\n",
        "\n"
      ],
      "metadata": {
        "id": "vcoZ7Y6rNV9D"
      },
      "execution_count": null,
      "outputs": []
    },
    {
      "cell_type": "code",
      "source": [
        "### Run this cell\n",
        "\n",
        "from torchvision import datasets, transforms\n",
        "\n",
        "# Define a transform to normalize the data\n",
        "transform = transforms.Compose([transforms.ToTensor(),\n",
        "                              transforms.Normalize((0.5,), (0.5,)),\n",
        "                              ])\n",
        "\n",
        "# Download and load the training data\n",
        "trainset = datasets.MNIST('drive/My Drive/mnist/MNIST_data/', download=True, train=True, transform=transform)\n",
        "valset = datasets.MNIST('drive/My Drive/mnist/MNIST_data/', download=True, train=False, transform=transform)\n",
        "trainloader = torch.utils.data.DataLoader(trainset, batch_size=64, shuffle=True) # torch.utils.data this represents a python iterable over a dataset along with many features\n",
        "valloader = torch.utils.data.DataLoader(valset, batch_size=64, shuffle=True)"
      ],
      "metadata": {
        "id": "XuT3gfiOOdFe"
      },
      "execution_count": null,
      "outputs": []
    },
    {
      "cell_type": "markdown",
      "source": [
        "iterable represents an objects which can be looped over and over\n"
      ],
      "metadata": {
        "id": "Rywn-rjrdVNm"
      }
    },
    {
      "cell_type": "code",
      "source": [
        "dataiter = iter(trainloader) \n",
        "images, labels = dataiter.next()\n",
        "print(type(images))\n",
        "print(images.shape) # batch size of 1 with 64 images each and the size of the image is 28X28\n",
        "print(labels.shape)"
      ],
      "metadata": {
        "colab": {
          "base_uri": "https://localhost:8080/"
        },
        "id": "k3SFNJS6OpD8",
        "outputId": "8d8d1094-869a-494f-ff72-a6b7efff7af3"
      },
      "execution_count": null,
      "outputs": [
        {
          "output_type": "stream",
          "name": "stdout",
          "text": [
            "<class 'torch.Tensor'>\n",
            "torch.Size([64, 1, 28, 28])\n",
            "torch.Size([64])\n"
          ]
        }
      ]
    },
    {
      "cell_type": "markdown",
      "source": [
        "dataiter is a variable we have called the iter function on trainloader as it can be iterated over and over it cn be compared to a for loop and by calling the .next() we are increasing the value till the number 64 is reached as it is the batch size\n"
      ],
      "metadata": {
        "id": "JgrsU_UEfFWO"
      }
    },
    {
      "cell_type": "markdown",
      "source": [],
      "metadata": {
        "id": "XwnpCDLdgvMW"
      }
    },
    {
      "cell_type": "code",
      "source": [
        "plt.imshow(images[0].numpy().squeeze(), cmap='gray_r');"
      ],
      "metadata": {
        "colab": {
          "base_uri": "https://localhost:8080/",
          "height": 265
        },
        "id": "ObXmt8uiOrY2",
        "outputId": "95454791-a81d-49d5-b6ac-3ad8a2958b76"
      },
      "execution_count": null,
      "outputs": [
        {
          "output_type": "display_data",
          "data": {
            "text/plain": [
              "<Figure size 432x288 with 1 Axes>"
            ],
            "image/png": "[encoded data removed]"
          },
          "metadata": {
            "needs_background": "light"
          }
        }
      ]
    },
    {
      "cell_type": "code",
      "source": [
        "# here we are exploring our dataset\n",
        "figure = plt.figure()\n",
        "num_of_images = 60\n",
        "for index in range(1, num_of_images + 1):\n",
        "    plt.subplot(6, 10, index)\n",
        "    plt.axis('off')\n",
        "    plt.imshow(images[index].numpy().squeeze(), cmap='gray_r')"
      ],
      "metadata": {
        "colab": {
          "base_uri": "https://localhost:8080/",
          "height": 246
        },
        "id": "-vHwQxqUOy6R",
        "outputId": "bbc0c09d-0435-4571-8299-c6ccb70ccc25"
      },
      "execution_count": null,
      "outputs": [
        {
          "output_type": "display_data",
          "data": {
            "text/plain": [
              "<Figure size 432x288 with 60 Axes>"
            ],
            "image/png": "[encoded data removed]"
          },
          "metadata": {
            "needs_background": "light"
          }
        }
      ]
    },
    {
      "cell_type": "markdown",
      "source": [
        "this is a dataset with 6 rows and 10 colums we have plotted this using matlibplot and used a for loop for printing in repetition \n"
      ],
      "metadata": {
        "id": "V9YSoepCUiRr"
      }
    },
    {
      "cell_type": "code",
      "source": [
        "# here our neural network is being defined\n",
        "\n",
        "from torch import nn # importing neural net \n",
        "# Layer details for the neural network\n",
        "input_size = 784 # As our image is of size 28X28\n",
        "hidden_sizes = [128, 64] # two hidden layers with 128 & 64 neurons respectively\n",
        "output_size = 10 # contains the number from 0 to 9\n",
        "\n",
        "# Build a feed-forward network\n",
        "model = nn.Sequential(nn.Linear(input_size, hidden_sizes[0]),\n",
        "                      nn.ReLU(),\n",
        "                      nn.Linear(hidden_sizes[0], hidden_sizes[1]),\n",
        "                      nn.ReLU(),\n",
        "                      nn.Linear(hidden_sizes[1], output_size),\n",
        "                      nn.LogSoftmax(dim=1))\n",
        "print(model)"
      ],
      "metadata": {
        "colab": {
          "base_uri": "https://localhost:8080/"
        },
        "id": "DAx2gLnEO2EI",
        "outputId": "646404ee-6788-4012-90ac-3168dbc5b295"
      },
      "execution_count": null,
      "outputs": [
        {
          "output_type": "stream",
          "name": "stdout",
          "text": [
            "Sequential(\n",
            "  (0): Linear(in_features=784, out_features=128, bias=True)\n",
            "  (1): ReLU()\n",
            "  (2): Linear(in_features=128, out_features=64, bias=True)\n",
            "  (3): ReLU()\n",
            "  (4): Linear(in_features=64, out_features=10, bias=True)\n",
            "  (5): LogSoftmax(dim=1)\n",
            ")\n"
          ]
        }
      ]
    },
    {
      "cell_type": "code",
      "source": [],
      "metadata": {
        "id": "v_UPEdzDnD2Y"
      },
      "execution_count": null,
      "outputs": []
    },
    {
      "cell_type": "markdown",
      "source": [],
      "metadata": {
        "id": "iX5wjmF6nEH3"
      }
    },
    {
      "cell_type": "markdown",
      "source": [
        "Here we have used the sequential container which will store our first hidden layers i.e of 128 nodes and then we use ReLU function on the weighted sums of the hidden layer we have avoided sigmoid as vanishing of gradient problem arises with it and also ReLU are faster as compared to the sigmoid\n",
        "We have used the logsoftmax function for our output layers so as to turn them into a vector of probablities.\n",
        "we have used the sequential module of nn it process the code in the given order\n",
        "\n",
        "> Indented block\n",
        "\n"
      ],
      "metadata": {
        "id": "aorTDJt4TR_s"
      }
    },
    {
      "cell_type": "code",
      "source": [
        "criterion = nn.NLLLoss() # this is a loss function mainly used for multi-classifier task\n",
        "images, labels = next(iter(trainloader))\n",
        "images = images.view(images.shape[0], -1)\n",
        "\n",
        "logps = model(images)\n",
        "loss = criterion(logps, labels)\n",
        "print('Before backward pass: \\n', model[0].weight.grad) # this the wieghts in our tensor before taking the gradient\n",
        "\n",
        "loss.backward() # this takes the partial derivative of the output w.r.t the input variables\n",
        "\n",
        "print('After backward pass: \\n', model[0].weight.grad) # this is after taking the gradient of weights of  each layer"
      ],
      "metadata": {
        "colab": {
          "base_uri": "https://localhost:8080/"
        },
        "id": "PsKIQpmJO5yS",
        "outputId": "999fa75f-7efa-4791-9f75-bc52e4a1bc96"
      },
      "execution_count": null,
      "outputs": [
        {
          "output_type": "stream",
          "name": "stdout",
          "text": [
            "Before backward pass: \n",
            " tensor([[ 0.0047,  0.0047,  0.0047,  ...,  0.0047,  0.0047,  0.0047],\n",
            "        [ 0.0005,  0.0005,  0.0005,  ...,  0.0005,  0.0005,  0.0005],\n",
            "        [ 0.0072,  0.0072,  0.0072,  ...,  0.0072,  0.0072,  0.0072],\n",
            "        ...,\n",
            "        [-0.0053, -0.0053, -0.0053,  ..., -0.0053, -0.0053, -0.0053],\n",
            "        [ 0.0016,  0.0016,  0.0016,  ...,  0.0016,  0.0016,  0.0016],\n",
            "        [-0.0047, -0.0047, -0.0047,  ..., -0.0047, -0.0047, -0.0047]])\n",
            "After backward pass: \n",
            " tensor([[ 0.0038,  0.0038,  0.0038,  ...,  0.0038,  0.0038,  0.0038],\n",
            "        [ 0.0008,  0.0008,  0.0008,  ...,  0.0008,  0.0008,  0.0008],\n",
            "        [ 0.0125,  0.0125,  0.0125,  ...,  0.0125,  0.0125,  0.0125],\n",
            "        ...,\n",
            "        [-0.0032, -0.0032, -0.0032,  ..., -0.0032, -0.0032, -0.0032],\n",
            "        [-0.0003, -0.0003, -0.0003,  ..., -0.0003, -0.0003, -0.0003],\n",
            "        [-0.0028, -0.0028, -0.0028,  ..., -0.0028, -0.0028, -0.0028]])\n"
          ]
        }
      ]
    },
    {
      "cell_type": "code",
      "source": [
        "from torch import optim # this is a package containing various optimization variables\n",
        "\n",
        "# Optimizers require the parameters to optimize and a learning rate\n",
        "optimizer = optim.SGD(model.parameters(), lr=0.5, momentum=0.5) # here SGD refers to stochastic gradient descent\n",
        "print('Initial weights - ', model[0].weight)\n",
        "\n",
        "images, labels = next(iter(trainloader))\n",
        "images.resize_(64, 784)\n",
        "\n",
        "# Clear the gradients, do this because gradients are accumulated\n",
        "optimizer.zero_grad()\n",
        "\n",
        "# Forward pass, then backward pass, then update weights\n",
        "output = model(images)\n",
        "loss = criterion(output, labels)\n",
        "loss.backward() # calculation of the gradients\n",
        "print('Gradient -', model[0].weight.grad)\n",
        "# Take an update step and few the new weights\n",
        "optimizer.step()\n",
        "print('Updated weights - ', model[0].weight) # here the weights are optimized by backward propagation"
      ],
      "metadata": {
        "colab": {
          "base_uri": "https://localhost:8080/"
        },
        "id": "9S42XaCgPJZ6",
        "outputId": "e2f3856d-4d00-4898-f7f3-63864737299d"
      },
      "execution_count": null,
      "outputs": [
        {
          "output_type": "stream",
          "name": "stdout",
          "text": [
            "Initial weights -  Parameter containing:\n",
            "tensor([[ 0.0270, -0.0207, -0.0120,  ...,  0.0217,  0.0278, -0.0100],\n",
            "        [ 0.0294, -0.0298, -0.0202,  ..., -0.0038,  0.0352,  0.0301],\n",
            "        [ 0.0182, -0.0336,  0.0255,  ..., -0.0191,  0.0091, -0.0247],\n",
            "        ...,\n",
            "        [-0.0220,  0.0071,  0.0010,  ...,  0.0115, -0.0069,  0.0176],\n",
            "        [-0.0335, -0.0141,  0.0133,  ..., -0.0119,  0.0265,  0.0212],\n",
            "        [-0.0223,  0.0247,  0.0211,  ...,  0.0073, -0.0178, -0.0221]],\n",
            "       requires_grad=True)\n",
            "Gradient - tensor([[ 0.0033,  0.0033,  0.0033,  ...,  0.0033,  0.0033,  0.0033],\n",
            "        [ 0.0005,  0.0005,  0.0005,  ...,  0.0005,  0.0005,  0.0005],\n",
            "        [ 0.0027,  0.0027,  0.0027,  ...,  0.0027,  0.0027,  0.0027],\n",
            "        ...,\n",
            "        [-0.0003, -0.0003, -0.0003,  ..., -0.0003, -0.0003, -0.0003],\n",
            "        [ 0.0050,  0.0050,  0.0050,  ...,  0.0050,  0.0050,  0.0050],\n",
            "        [ 0.0020,  0.0020,  0.0020,  ...,  0.0020,  0.0020,  0.0020]])\n",
            "Updated weights -  Parameter containing:\n",
            "tensor([[ 0.0253, -0.0224, -0.0136,  ...,  0.0200,  0.0262, -0.0117],\n",
            "        [ 0.0292, -0.0301, -0.0205,  ..., -0.0041,  0.0350,  0.0299],\n",
            "        [ 0.0168, -0.0349,  0.0241,  ..., -0.0205,  0.0078, -0.0261],\n",
            "        ...,\n",
            "        [-0.0218,  0.0072,  0.0012,  ...,  0.0116, -0.0068,  0.0178],\n",
            "        [-0.0360, -0.0166,  0.0108,  ..., -0.0143,  0.0240,  0.0187],\n",
            "        [-0.0233,  0.0237,  0.0201,  ...,  0.0063, -0.0188, -0.0231]],\n",
            "       requires_grad=True)\n"
          ]
        }
      ]
    },
    {
      "cell_type": "markdown",
      "source": [
        "SGD is a optimizing method unlike the orignal grdient descent it does not iterate over the whole data set but chooses a random dataset to iterate over to improve the function with the help of learning rate"
      ],
      "metadata": {
        "id": "0cZgDp4Mw4nv"
      }
    },
    {
      "cell_type": "code",
      "source": [
        "# this is the trainning part of our neural network\n",
        "optimizer = optim.SGD(model.parameters(), lr=0.003, momentum=0.9)\n",
        "time0 = time()\n",
        "epochs = 15\n",
        "for e in range(epochs):\n",
        "    running_loss = 0\n",
        "    for images, labels in trainloader:\n",
        "        # Flatten MNIST images into a 784 long vector\n",
        "        images = images.view(images.shape[0], -1)\n",
        "    \n",
        "        # Training pass\n",
        "        optimizer.zero_grad()\n",
        "        \n",
        "        output = model(images)\n",
        "        loss = criterion(output, labels)\n",
        "        \n",
        "        #This is where the model learns by backpropagating\n",
        "        loss.backward() \n",
        "         \n",
        "        #And optimizes its weights here\n",
        "        optimizer.step()\n",
        "        \n",
        "        running_loss += loss.item() # loss.item contains the entire loss of the mini batch\n",
        "    else:\n",
        "        print(\"Epoch {} - Training loss: {}\".format(e, running_loss/len(trainloader))) # runningloss/the entire batch size\n",
        "print(\"\\nTraining Time (in minutes) =\",(time()-time0)/60)"
      ],
      "metadata": {
        "colab": {
          "base_uri": "https://localhost:8080/"
        },
        "id": "uaMeRLEeQBi3",
        "outputId": "5917212d-b919-4141-8859-381c351cb011"
      },
      "execution_count": null,
      "outputs": [
        {
          "output_type": "stream",
          "name": "stdout",
          "text": [
            "Epoch 0 - Training loss: 0.056922029736124154\n",
            "Epoch 1 - Training loss: 0.047245103080865186\n",
            "Epoch 2 - Training loss: 0.04491450014521183\n",
            "Epoch 3 - Training loss: 0.0410665152275484\n",
            "Epoch 4 - Training loss: 0.03711540043018441\n",
            "Epoch 5 - Training loss: 0.03568811470747931\n",
            "Epoch 6 - Training loss: 0.03325346132295071\n",
            "Epoch 7 - Training loss: 0.03057188467658274\n",
            "Epoch 8 - Training loss: 0.02894526820898906\n",
            "Epoch 9 - Training loss: 0.0259643360360045\n",
            "Epoch 10 - Training loss: 0.0248311042764794\n",
            "Epoch 11 - Training loss: 0.023031447081640958\n",
            "Epoch 12 - Training loss: 0.021574799308808013\n",
            "Epoch 13 - Training loss: 0.02007734613709781\n",
            "Epoch 14 - Training loss: 0.018852491979332104\n",
            "\n",
            "Training Time (in minutes) = 3.688238227367401\n"
          ]
        }
      ]
    },
    {
      "cell_type": "code",
      "source": [
        "\n",
        "def view_classify(img, ps):\n",
        "    ''' Function for viewing an image and it's predicted classes.\n",
        "    '''\n",
        "    ps = ps.data.numpy().squeeze()\n",
        "\n",
        "    fig, (ax1, ax2) = plt.subplots(figsize=(6,9), ncols=2)\n",
        "    ax1.imshow(img.resize_(1, 28, 28).numpy().squeeze())\n",
        "    ax1.axis('off')\n",
        "    ax2.barh(np.arange(10), ps)\n",
        "    ax2.set_aspect(0.1)\n",
        "    ax2.set_yticks(np.arange(10))\n",
        "    ax2.set_yticklabels(np.arange(10))\n",
        "    ax2.set_title('Class Probability')\n",
        "    ax2.set_xlim(0, 1.1)\n",
        "    plt.tight_layout()\n",
        "    images, labels = next(iter(valloader))\n",
        "\n",
        "img = images[0].view(1, 784)\n",
        "# Turn off gradients to speed up this part\n",
        "with torch.no_grad():\n",
        "    logps = model(img)\n",
        "\n",
        "# Output of the network are log-probabilities, need to take exponential for probabilities\n",
        "ps = torch.exp(logps)\n",
        "probab = list(ps.numpy()[0])\n",
        "print(\"Predicted Digit =\", probab.index(max(probab)))\n",
        "view_classify(img.view(1, 28, 28), ps)"
      ],
      "metadata": {
        "colab": {
          "base_uri": "https://localhost:8080/",
          "height": 270
        },
        "id": "zQzqx0TsRDy0",
        "outputId": "7adad510-3645-42ec-8a09-4a4fbcaefcf4"
      },
      "execution_count": null,
      "outputs": [
        {
          "output_type": "stream",
          "name": "stdout",
          "text": [
            "Predicted Digit = 1\n"
          ]
        },
        {
          "output_type": "display_data",
          "data": {
            "text/plain": [
              "<Figure size 432x648 with 2 Axes>"
            ],
            "image/png": "[encoded data removed]"
          },
          "metadata": {
            "needs_background": "light"
          }
        }
      ]
    },
    {
      "cell_type": "code",
      "source": [
        "# this is model evaluation\n",
        "correct_count, all_count = 0, 0\n",
        "for images,labels in valloader:\n",
        "  for i in range(len(labels)):\n",
        "    img = images[i].view(1, 784)\n",
        "    # Turn off gradients to speed up this part\n",
        "    with torch.no_grad():\n",
        "        logps = model(img)\n",
        "\n",
        "    # Output of the network are log-probabilities, need to take exponential for probabilities\n",
        "    ps = torch.exp(logps)\n",
        "    probab = list(ps.numpy()[0])\n",
        "    pred_label = probab.index(max(probab))\n",
        "    true_label = labels.numpy()[i]\n",
        "    if(true_label == pred_label):\n",
        "      correct_count += 1\n",
        "    all_count += 1\n",
        "\n",
        "print(\"Number Of Images Tested =\", all_count)\n",
        "print(\"\\nModel Accuracy =\", (correct_count/all_count))"
      ],
      "metadata": {
        "colab": {
          "base_uri": "https://localhost:8080/"
        },
        "id": "GGsHX0XXRP2Y",
        "outputId": "97180d9c-4c9c-43f1-ba9a-8f95c837a8f4"
      },
      "execution_count": null,
      "outputs": [
        {
          "output_type": "stream",
          "name": "stdout",
          "text": [
            "Number Of Images Tested = 10000\n",
            "\n",
            "Model Accuracy = 0.9771\n"
          ]
        }
      ]
    }
  ]
}